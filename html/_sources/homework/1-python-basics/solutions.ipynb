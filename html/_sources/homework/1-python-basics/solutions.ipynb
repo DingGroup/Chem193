{
 "cells": [
  {
   "cell_type": "markdown",
   "metadata": {},
   "source": [
    "# Assignment 1: Python Basics"
   ]
  },
  {
   "cell_type": "markdown",
   "metadata": {},
   "source": [
    "Proteins are clustered into families based on sequence similarity. A protein family is a group of proteins that share a common evolutionary origin, reflected by their related functions and similarities in sequence or structure. Sequences of proteins in a family are aligned to identify the conserved regions and the variations in the family. Such an alignment is called a multiple sequence alignment (MSA).\n",
    "\n",
    "In this assignment, you will write Python code to process the MSA of a protein family. The MSA is stored in a text file in the [Stockholm format](https://en.wikipedia.org/wiki/Stockholm_format). The Stockholm formatted file looks like the following:\n",
    "\n",
    "```\n",
    "# STOCKHOLM 1.0\n",
    "#=GF ID   EXAMPLE\n",
    "<seqname> <aligned sequence>\n",
    "<seqname> <aligned sequence>\n",
    "<seqname> <aligned sequence>\n",
    "//\n",
    "```\n",
    "\n",
    "The first line shows the version of the Stockholm format. Each line that starts with `#` is a comment and can be ignored. It is followed by the aligned sequences of the proteins in the family, one sequence per line. Each line contains the sequence name (including start and end positions) and the aligned sequence separated by spaces. The alignment is ended by `//`.\n",
    "\n",
    "First, let us download a sample MSA file that we will use for this assignment. The following code downloads the MSA of the [protein family PF00041](https://www.ebi.ac.uk/interpro/entry/pfam/PF00041/) from the Pfam database and saves it to the file `PF00041_seed.txt` in the folder `data`. Within the protein sequence, letters represent the amino acids (e.g., `A` for Alanine, `C` for Cysteine, etc.), and `-` and `.` are gaps. \n"
   ]
  },
  {
   "cell_type": "code",
   "execution_count": 3,
   "metadata": {},
   "outputs": [],
   "source": [
    "import urllib3\n",
    "import gzip\n",
    "import math\n",
    "import matplotlib.pyplot as plt\n",
    "\n",
    "pfam_id = \"PF00041\"\n",
    "http = urllib3.PoolManager()\n",
    "r = http.request(\n",
    "    \"GET\",\n",
    "    f\"https://www.ebi.ac.uk/interpro/wwwapi//entry/pfam/{pfam_id}/?annotation=alignment:seed&download\",\n",
    ")\n",
    "data = gzip.decompress(r.data)\n",
    "data = data.decode()\n",
    "with open(f\"./data/{pfam_id}_seed.txt\".format(pfam_id), \"w\") as file_handle:\n",
    "    print(data, file=file_handle)"
   ]
  },
  {
   "cell_type": "markdown",
   "metadata": {},
   "source": [
    "You can open the file `PF00041_seed.txt` in a text editor to see the content of the MSA file. In the following, you will write Python code to read this file and process the MSA ."
   ]
  },
  {
   "cell_type": "markdown",
   "metadata": {},
   "source": [
    "## 1. Reading the MSA file\n",
    "\n",
    "1. Read the MSA file `PF00041_seed.txt` and store the sequences in a dictionary. The key of each item in the dictionary is the sequence name, and the value is the aligned sequence as a string. The sequence name should include the start and end positions of the sequence if provided. If the start and end positions are not provided, you can use the sequence name as it is. Keep the gaps in the aligned sequences.\n",
    "\n",
    "2. Write a function to get the names of sequences that are longer than 100 amino acids, excluding gaps. Use the dictionary created in the previous step as input to this function. The function should return a list of sequence names"
   ]
  },
  {
   "cell_type": "code",
   "execution_count": 4,
   "metadata": {},
   "outputs": [],
   "source": [
    "## msa is the dictionary that will store the MSA\n",
    "msa = {}\n",
    "with open(f\"./data/{pfam_id}_seed.txt\", \"r\") as file_handle:\n",
    "    for line in file_handle:\n",
    "        ######################################################################\n",
    "        ## write code to parse the MSA file and store it in the dictionary msa\n",
    "\n",
    "        if line.startswith(\"#\"):\n",
    "            continue\n",
    "        if line.startswith(\"//\"):\n",
    "            break\n",
    "\n",
    "        line = line.strip().split()\n",
    "        if len(line) == 0:\n",
    "            continue\n",
    "\n",
    "        name = line[0]\n",
    "        seq = line[1]\n",
    "        msa[name] = seq\n",
    "\n",
    "        ######################################################################"
   ]
  },
  {
   "cell_type": "code",
   "execution_count": 5,
   "metadata": {},
   "outputs": [],
   "source": [
    "def get_names_of_long_sequences(msa: dict) -> int:\n",
    "    \"\"\"\n",
    "    This function get names of sequences that are longer than\n",
    "    100 amino acids\n",
    "    \"\"\"\n",
    "    ####################################################################\n",
    "    ## write your code here\n",
    "\n",
    "    names = []\n",
    "    for n, seq in msa.items():\n",
    "        s = seq.replace(\".\", \"\")\n",
    "        if len(s) > 100:\n",
    "            names.append(n)\n",
    "\n",
    "    return names\n",
    "    ####################################################################"
   ]
  },
  {
   "cell_type": "code",
   "execution_count": 6,
   "metadata": {},
   "outputs": [
    {
     "name": "stdout",
     "output_type": "stream",
     "text": [
      "Names of sequences longer than 100 amino acids: ['KALM_CHICK/544-647', 'EPHB2_CHICK/327-428', 'EPHA3_CHICK/326-427', 'EPHA1_HUMAN/334-437']\n"
     ]
    }
   ],
   "source": [
    "names = get_names_of_long_sequences(msa)\n",
    "print(f\"Names of sequences longer than 100 amino acids: {names}\")"
   ]
  },
  {
   "cell_type": "markdown",
   "metadata": {},
   "source": [
    "## 2. Processing the MSA\n",
    "The sequence `EPHA1_HUMAN/334-437` is one of the sequences obtained from the previous step. In this part, you will used this sequence as a reference sequence to process the MSA.\n",
    "\n",
    "Write a function that takes the reference sequence name and the msa dictionary as input and processes the MSA as follows. First, for each sequence, remove the positions that have a gap in the reference sequence. In other words, if the reference sequence has a gap at a position, remove that position from all the sequences. Second, for each position, remove the position from all the sequences if more than 80% of the sequences have a gap at that position. The function should return a new dictionary with the processed sequences."
   ]
  },
  {
   "cell_type": "code",
   "execution_count": 7,
   "metadata": {},
   "outputs": [],
   "source": [
    "def process_msa(reference: str, msa: dict) -> dict:\n",
    "    ####################################################################\n",
    "    ## write your code here\n",
    "\n",
    "    ref_seq = msa[reference]\n",
    "    pos = [a for a in range(len(ref_seq)) if ref_seq[a] != \".\"]\n",
    "\n",
    "    msa_processed = {}\n",
    "    for n, seq in msa.items():\n",
    "        msa_processed[n] = \"\".join([seq[a] for a in pos])\n",
    "\n",
    "    gaps_per_position = []\n",
    "    for j in range(len(pos)):\n",
    "        n = 0\n",
    "        for v in msa_processed.values():\n",
    "            if v[j] == \".\":\n",
    "                n += 1\n",
    "        gaps_per_position.append(n)\n",
    "\n",
    "    pos = [\n",
    "        j\n",
    "        for j in range(len(gaps_per_position))\n",
    "        if gaps_per_position[j] < 0.2 * len(msa_processed)\n",
    "    ]\n",
    "\n",
    "    for k in msa_processed.keys():\n",
    "        msa_processed[k] = \"\".join([msa_processed[k][a] for a in pos])\n",
    "\n",
    "    return msa_processed\n"
   ]
  },
  {
   "cell_type": "code",
   "execution_count": 8,
   "metadata": {},
   "outputs": [],
   "source": [
    "msa_processed = process_msa(\"EPHA1_HUMAN/334-437\", msa)"
   ]
  },
  {
   "cell_type": "markdown",
   "metadata": {},
   "source": [
    "## 3 Calculating Shannon Entropy\n",
    "For each position in the processed MSA, we are interested in knowing how conserved it is, i.e., the degree of variation at that position. A commonly used measure for this is the Shannon entropy. The Shannon entropy is calculated as follows:\n",
    "$$H = -\\sum_{i=1}^{21} p_i \\log_2(p_i)$$\n",
    "where $p_i$ is the frequency of the $i$-th amino acid at that position. $i$ ranges from 1 to 21 because there are 20 amino acids and we consider the gap as an additional character. When $p_i = 0$ for an amino acid, the term $p_i \\log(p_i)$ is taken as 0. The entropy value ranges from 0 (no variation) to $\\log_2(21) \\approx 4.39$ (all amino acids are equally likely). \n",
    "\n",
    "Write a function that takes the processed MSA dictionary as input and calculates the Shannon entropy for each position in the MSA. The function should return a list of entropy values, one for each position in the MSA. You could write additional helper functions to be used in this function if necessary."
   ]
  },
  {
   "cell_type": "code",
   "execution_count": 9,
   "metadata": {},
   "outputs": [],
   "source": [
    "def get_amino_acids(pos: int, msa: dict) -> dict:\n",
    "    aa = []\n",
    "    for s in msa.values():\n",
    "        aa.append(s[pos])\n",
    "    return aa\n",
    "\n",
    "def compute_freq(aas: list) -> dict:\n",
    "    freq = {}\n",
    "    for a in aas:\n",
    "        if a in freq:\n",
    "            freq[a] += 1\n",
    "        else:\n",
    "            freq[a] = 1\n",
    "    for a in freq.keys():\n",
    "        freq[a] /= len(aas)\n",
    "    return freq\n",
    "\n",
    "def compute_entropy(freq: dict) -> float:\n",
    "    entropy = 0\n",
    "    for a in freq.keys():\n",
    "        entropy -= freq[a] * math.log2(freq[a])\n",
    "\n",
    "    return entropy\n",
    "\n",
    "def compute_entropy_mas(msa: dict) -> dict:\n",
    "    entropy = []\n",
    "    for i in range(len(list(msa.values())[0])):\n",
    "        aa = get_amino_acids(i, msa)\n",
    "        freq = compute_freq(aa)\n",
    "        entropy.append(compute_entropy(freq))\n",
    "\n",
    "    return entropy\n",
    "\n",
    "entropy = compute_entropy_mas(msa_processed)\n"
   ]
  },
  {
   "cell_type": "code",
   "execution_count": 14,
   "metadata": {},
   "outputs": [
    {
     "data": {
      "image/png": "[encoded data removed]",
      "text/plain": [
       "<Figure size 640x480 with 1 Axes>"
      ]
     },
     "metadata": {},
     "output_type": "display_data"
    }
   ],
   "source": [
    "fig = plt.figure()\n",
    "plt.clf()\n",
    "plt.plot(entropy, '.')\n",
    "plt.ylim([0, 4.5])\n",
    "plt.xlabel(\"Position\")\n",
    "plt.ylabel(\"Entropy\")\n",
    "plt.show()"
   ]
  }
 ],
 "metadata": {
  "kernelspec": {
   "display_name": ".venv",
   "language": "python",
   "name": "python3"
  },
  "language_info": {
   "codemirror_mode": {
    "name": "ipython",
    "version": 3
   },
   "file_extension": ".py",
   "mimetype": "text/x-python",
   "name": "python",
   "nbconvert_exporter": "python",
   "pygments_lexer": "ipython3",
   "version": "3.12.5"
  }
 },
 "nbformat": 4,
 "nbformat_minor": 2
}
